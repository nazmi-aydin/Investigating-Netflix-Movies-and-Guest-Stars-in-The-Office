{
 "cells": [
  {
   "cell_type": "markdown",
   "id": "416f65b1",
   "metadata": {
    "dc": {
     "key": "4"
    },
    "deletable": false,
    "editable": false,
    "run_control": {
     "frozen": true
    },
    "tags": [
     "context"
    ]
   },
   "source": [
    "## 1. Loading your friend's data into a dictionary\n",
    "<p><img src=\"https://assets.datacamp.com/production/project_1237/img/netflix.jpg\" alt=\"Someone's feet on table facing a television\"></p>\n",
    "<p>Netflix! What started in 1997 as a DVD rental service has since exploded into the largest entertainment/media company by <a href=\"https://www.marketwatch.com/story/netflix-shares-close-up-8-for-yet-another-record-high-2020-07-10\">market capitalization</a>, boasting over 200 million subscribers as of <a href=\"https://www.cbsnews.com/news/netflix-tops-200-million-subscribers-but-faces-growing-challenge-from-disney-plus/\">January 2021</a>.</p>\n",
    "<p>Given the large number of movies and series available on the platform, it is a perfect opportunity to flex our data manipulation skills and dive into the entertainment industry. Our friend has also been brushing up on their Python skills and has taken a first crack at a CSV file containing Netflix data. For their first order of business, they have been performing some analyses, and they believe that the average duration of movies has been declining. </p>\n",
    "<p>As evidence of this, they have provided us with the following information. For the years from 2011 to 2020, the average movie durations are 103, 101, 99, 100, 100, 95, 95, 96, 93, and 90, respectively.</p>\n",
    "<p>If we're going to be working with this data, we know a good place to start would be to probably start working with <code>pandas</code>. But first we'll need to create a DataFrame from scratch. Let's start by creating a Python object covered in <a href=\"https://learn.datacamp.com/courses/intermediate-python\">Intermediate Python</a>: a dictionary!</p>"
   ]
  },
  {
   "cell_type": "code",
   "execution_count": null,
   "id": "906a4f57",
   "metadata": {
    "dc": {
     "key": "4"
    },
    "tags": [
     "sample_code"
    ]
   },
   "outputs": [
    {
     "name": "stdout",
     "output_type": "stream",
     "text": [
      "{'years': [2011, 2012, 2013, 2014, 2015, 2016, 2017, 2018, 2019, 2020], 'durations': [103, 101, 99, 100, 100, 95, 95, 96, 93, 90]}\n"
     ]
    }
   ],
   "source": [
    "# Create the years and durations lists\n",
    "years = [2011,2012,2013, 2014, 2015, 2016, 2017, 2018, 2019, 2020]\n",
    "durations = [103, 101, 99, 100, 100, 95, 95, 96, 93, 90]\n",
    "\n",
    "# Create a dictionary with the two lists\n",
    "movie_dict = {\"years\": years, \"durations\": durations}\n",
    "\n",
    "# Print the dictionary\n",
    "print(movie_dict)"
   ]
  },
  {
   "cell_type": "markdown",
   "id": "283448b5",
   "metadata": {
    "dc": {
     "key": "11"
    },
    "deletable": false,
    "editable": false,
    "run_control": {
     "frozen": true
    },
    "tags": [
     "context"
    ]
   },
   "source": [
    "## 2. Creating a DataFrame from a dictionary\n",
    "<p>To convert our dictionary <code>movie_dict</code> to a <code>pandas</code> DataFrame, we will first need to import the library under its usual alias. We'll also want to inspect our DataFrame to ensure it was created correctly. Let's perform these steps now.</p>"
   ]
  },
  {
   "cell_type": "code",
   "execution_count": null,
   "id": "7a773acd",
   "metadata": {
    "dc": {
     "key": "11"
    },
    "tags": [
     "sample_code"
    ]
   },
   "outputs": [
    {
     "data": {
      "application/com.datacamp.data-table.v1+json": {
       "is_truncated": false,
       "table": {
        "data": [
         {
          "durations": 103,
          "index": 0,
          "years": 2011
         },
         {
          "durations": 101,
          "index": 1,
          "years": 2012
         },
         {
          "durations": 99,
          "index": 2,
          "years": 2013
         },
         {
          "durations": 100,
          "index": 3,
          "years": 2014
         },
         {
          "durations": 100,
          "index": 4,
          "years": 2015
         },
         {
          "durations": 95,
          "index": 5,
          "years": 2016
         },
         {
          "durations": 95,
          "index": 6,
          "years": 2017
         },
         {
          "durations": 96,
          "index": 7,
          "years": 2018
         },
         {
          "durations": 93,
          "index": 8,
          "years": 2019
         },
         {
          "durations": 90,
          "index": 9,
          "years": 2020
         }
        ],
        "schema": {
         "fields": [
          {
           "name": "index",
           "type": "integer"
          },
          {
           "name": "years",
           "type": "integer"
          },
          {
           "name": "durations",
           "type": "integer"
          }
         ],
         "pandas_version": "0.20.0",
         "primaryKey": [
          "index"
         ]
        }
       },
       "total_rows": 10
      },
      "text/html": [
       "<div>\n",
       "<style scoped>\n",
       "    .dataframe tbody tr th:only-of-type {\n",
       "        vertical-align: middle;\n",
       "    }\n",
       "\n",
       "    .dataframe tbody tr th {\n",
       "        vertical-align: top;\n",
       "    }\n",
       "\n",
       "    .dataframe thead th {\n",
       "        text-align: right;\n",
       "    }\n",
       "</style>\n",
       "<table border=\"1\" class=\"dataframe\">\n",
       "  <thead>\n",
       "    <tr style=\"text-align: right;\">\n",
       "      <th></th>\n",
       "      <th>years</th>\n",
       "      <th>durations</th>\n",
       "    </tr>\n",
       "  </thead>\n",
       "  <tbody>\n",
       "    <tr>\n",
       "      <th>0</th>\n",
       "      <td>2011</td>\n",
       "      <td>103</td>\n",
       "    </tr>\n",
       "    <tr>\n",
       "      <th>1</th>\n",
       "      <td>2012</td>\n",
       "      <td>101</td>\n",
       "    </tr>\n",
       "    <tr>\n",
       "      <th>2</th>\n",
       "      <td>2013</td>\n",
       "      <td>99</td>\n",
       "    </tr>\n",
       "    <tr>\n",
       "      <th>3</th>\n",
       "      <td>2014</td>\n",
       "      <td>100</td>\n",
       "    </tr>\n",
       "    <tr>\n",
       "      <th>4</th>\n",
       "      <td>2015</td>\n",
       "      <td>100</td>\n",
       "    </tr>\n",
       "    <tr>\n",
       "      <th>5</th>\n",
       "      <td>2016</td>\n",
       "      <td>95</td>\n",
       "    </tr>\n",
       "    <tr>\n",
       "      <th>6</th>\n",
       "      <td>2017</td>\n",
       "      <td>95</td>\n",
       "    </tr>\n",
       "    <tr>\n",
       "      <th>7</th>\n",
       "      <td>2018</td>\n",
       "      <td>96</td>\n",
       "    </tr>\n",
       "    <tr>\n",
       "      <th>8</th>\n",
       "      <td>2019</td>\n",
       "      <td>93</td>\n",
       "    </tr>\n",
       "    <tr>\n",
       "      <th>9</th>\n",
       "      <td>2020</td>\n",
       "      <td>90</td>\n",
       "    </tr>\n",
       "  </tbody>\n",
       "</table>\n",
       "</div>"
      ],
      "text/plain": [
       "   years  durations\n",
       "0   2011        103\n",
       "1   2012        101\n",
       "2   2013         99\n",
       "3   2014        100\n",
       "4   2015        100\n",
       "5   2016         95\n",
       "6   2017         95\n",
       "7   2018         96\n",
       "8   2019         93\n",
       "9   2020         90"
      ]
     },
     "execution_count": 2,
     "metadata": {},
     "output_type": "execute_result"
    }
   ],
   "source": [
    "# Import pandas under its usual alias\n",
    "import pandas as pd\n",
    "\n",
    "# Create a DataFrame from the dictionary\n",
    "durations_df = pd.DataFrame(movie_dict)\n",
    "\n",
    "# Print the DataFrame\n",
    "durations_df"
   ]
  },
  {
   "cell_type": "markdown",
   "id": "24f87685",
   "metadata": {
    "dc": {
     "key": "18"
    },
    "deletable": false,
    "editable": false,
    "run_control": {
     "frozen": true
    },
    "tags": [
     "context"
    ]
   },
   "source": [
    "## 3. A visual inspection of our data\n",
    "<p>Alright, we now have a <code>pandas</code> DataFrame, the most common way to work with tabular data in Python. Now back to the task at hand. We want to follow up on our friend's assertion that movie lengths have been decreasing over time. A great place to start will be a visualization of the data.</p>\n",
    "<p>Given that the data is continuous, a line plot would be a good choice, with the dates represented along the x-axis and the average length in minutes along the y-axis. This will allow us to easily spot any trends in movie durations. There are many ways to visualize data in Python, but <code>matploblib.pyplot</code> is one of the most common packages to do so.</p>\n",
    "<p><em>Note: In order for us to correctly test your plot, you will need to initalize a <code>matplotlib.pyplot</code> Figure object, which we have already provided in the cell below. You can continue to create your plot as you have learned in Intermediate Python.</em></p>"
   ]
  },
  {
   "cell_type": "code",
   "execution_count": null,
   "id": "c0188d05",
   "metadata": {
    "dc": {
     "key": "18"
    },
    "tags": [
     "sample_code"
    ]
   },
   "outputs": [
    {
     "data": {
      "image/png": "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\n",
      "text/plain": [
       "<Figure size 432x288 with 1 Axes>"
      ]
     },
     "metadata": {
      "needs_background": "light"
     },
     "output_type": "display_data"
    }
   ],
   "source": [
    "# Import matplotlib.pyplot under its usual alias and create a figure\n",
    "import matplotlib.pyplot as plt\n",
    "fig = plt.figure()\n",
    "\n",
    "# Draw a line plot of release_years and durations\n",
    "plt.plot(years, durations)\n",
    "\n",
    "# Create a title\n",
    "plt.title(\"Netflix Movie Durations 2011-2020\")\n",
    "\n",
    "# Show the plo\n",
    "plt.show()"
   ]
  },
  {
   "cell_type": "markdown",
   "id": "6c3ac021",
   "metadata": {
    "dc": {
     "key": "25"
    },
    "deletable": false,
    "editable": false,
    "run_control": {
     "frozen": true
    },
    "tags": [
     "context"
    ]
   },
   "source": [
    "## 4. Loading the rest of the data from a CSV\n",
    "<p>Well, it looks like there is something to the idea that movie lengths have decreased over the past ten years! But equipped only with our friend's aggregations, we're limited in the further explorations we can perform. There are a few questions about this trend that we are currently unable to answer, including:</p>\n",
    "<ol>\n",
    "<li>What does this trend look like over a longer period of time?</li>\n",
    "<li>Is this explainable by something like the genre of entertainment?</li>\n",
    "</ol>\n",
    "<p>Upon asking our friend for the original CSV they used to perform their analyses, they gladly oblige and send it. We now have access to the CSV file, available at the path <code>\"datasets/netflix_data.csv\"</code>. Let's create another DataFrame, this time with all of the data. Given the length of our friend's data, printing the whole DataFrame is probably not a good idea, so we will inspect it by printing only the first five rows.</p>"
   ]
  },
  {
   "cell_type": "code",
   "execution_count": null,
   "id": "7509ae2c",
   "metadata": {
    "dc": {
     "key": "25"
    },
    "tags": [
     "sample_code"
    ]
   },
   "outputs": [
    {
     "name": "stdout",
     "output_type": "stream",
     "text": [
      "  show_id     type  title           director  \\\n",
      "0      s1  TV Show     3%                NaN   \n",
      "1      s2    Movie   7:19  Jorge Michel Grau   \n",
      "2      s3    Movie  23:59       Gilbert Chan   \n",
      "3      s4    Movie      9        Shane Acker   \n",
      "4      s5    Movie     21     Robert Luketic   \n",
      "\n",
      "                                                cast        country  \\\n",
      "0  João Miguel, Bianca Comparato, Michel Gomes, R...         Brazil   \n",
      "1  Demián Bichir, Héctor Bonilla, Oscar Serrano, ...         Mexico   \n",
      "2  Tedd Chan, Stella Chung, Henley Hii, Lawrence ...      Singapore   \n",
      "3  Elijah Wood, John C. Reilly, Jennifer Connelly...  United States   \n",
      "4  Jim Sturgess, Kevin Spacey, Kate Bosworth, Aar...  United States   \n",
      "\n",
      "          date_added  release_year  duration  \\\n",
      "0    August 14, 2020          2020         4   \n",
      "1  December 23, 2016          2016        93   \n",
      "2  December 20, 2018          2011        78   \n",
      "3  November 16, 2017          2009        80   \n",
      "4    January 1, 2020          2008       123   \n",
      "\n",
      "                                         description             genre  \n",
      "0  In a future where the elite inhabit an island ...  International TV  \n",
      "1  After a devastating earthquake hits Mexico Cit...            Dramas  \n",
      "2  When an army recruit is found dead, his fellow...     Horror Movies  \n",
      "3  In a postapocalyptic world, rag-doll robots hi...            Action  \n",
      "4  A brilliant group of students become card-coun...            Dramas  \n"
     ]
    }
   ],
   "source": [
    "# Read in the CSV as a DataFrame\n",
    "netflix_df = pd.read_csv(\"datasets/netflix_data.csv\")\n",
    "\n",
    "# Print the first five rows of the DataFrame\n",
    "print(netflix_df.head(5))"
   ]
  },
  {
   "cell_type": "markdown",
   "id": "16bb44b4",
   "metadata": {
    "dc": {
     "key": "32"
    },
    "deletable": false,
    "editable": false,
    "run_control": {
     "frozen": true
    },
    "tags": [
     "context"
    ]
   },
   "source": [
    "## 5. Filtering for movies!\n",
    "<p>Okay, we have our data! Now we can dive in and start looking at movie lengths. </p>\n",
    "<p>Or can we? Looking at the first five rows of our new DataFrame, we notice a column <code>type</code>. Scanning the column, it's clear there are also TV shows in the dataset! Moreover, the <code>duration</code> column we planned to use seems to represent different values depending on whether the row is a movie or a show (perhaps the number of minutes versus the number of seasons)?</p>\n",
    "<p>Fortunately, a DataFrame allows us to filter data quickly, and we can select rows where <code>type</code> is <code>Movie</code>. While we're at it, we don't need information from all of the columns, so let's create a new DataFrame <code>netflix_movies</code> containing only <code>title</code>, <code>country</code>, <code>genre</code>, <code>release_year</code>, and <code>duration</code>.</p>\n",
    "<p>Let's put our data subsetting skills to work!</p>"
   ]
  },
  {
   "cell_type": "code",
   "execution_count": null,
   "id": "fb02cdcb",
   "metadata": {
    "dc": {
     "key": "32"
    },
    "tags": [
     "sample_code"
    ]
   },
   "outputs": [
    {
     "name": "stdout",
     "output_type": "stream",
     "text": [
      "   title        country          genre  release_year  duration\n",
      "1   7:19         Mexico         Dramas          2016        93\n",
      "2  23:59      Singapore  Horror Movies          2011        78\n",
      "3      9  United States         Action          2009        80\n",
      "4     21  United States         Dramas          2008       123\n",
      "6    122          Egypt  Horror Movies          2019        95\n"
     ]
    }
   ],
   "source": [
    "# Subset the DataFrame for type \"Movie\"\n",
    "netflix_df_movies_only = netflix_df[netflix_df[\"type\"] == \"Movie\"]\n",
    "\n",
    "# Select only the columns of interest\n",
    "netflix_movies_col_subset = netflix_df_movies_only[['title', 'country', 'genre', 'release_year', 'duration']]\n",
    "\n",
    "# Print the first five rows of the new DataFrame\n",
    "print(netflix_movies_col_subset[0:5])"
   ]
  },
  {
   "cell_type": "markdown",
   "id": "6d1613d0",
   "metadata": {
    "dc": {
     "key": "39"
    },
    "deletable": false,
    "editable": false,
    "run_control": {
     "frozen": true
    },
    "tags": [
     "context"
    ]
   },
   "source": [
    "## 6. Creating a scatter plot\n",
    "<p>Okay, now we're getting somewhere. We've read in the raw data, selected rows of movies, and have limited our DataFrame to our columns of interest. Let's try visualizing the data again to inspect the data over a longer range of time.</p>\n",
    "<p>This time, we are no longer working with aggregates but instead with individual movies. A line plot is no longer a good choice for our data, so let's try a scatter plot instead. We will again plot the year of release on the x-axis and the movie duration on the y-axis.</p>\n",
    "<p><em>Note: Although not taught in Intermediate Python, we have provided you the code <code>fig = plt.figure(figsize=(12,8))</code> to increase the size of the plot (to help you see the results), as well as to assist with testing. For more information on how to create or work with a <code>matplotlib</code> <code>figure</code>, refer to the <a href=\"https://matplotlib.org/stable/api/_as_gen/matplotlib.pyplot.figure.html\">documentation</a>.</em></p>"
   ]
  },
  {
   "cell_type": "code",
   "execution_count": null,
   "id": "bad55644",
   "metadata": {
    "dc": {
     "key": "39"
    },
    "tags": [
     "sample_code"
    ]
   },
   "outputs": [
    {
     "data": {
      "image/png": "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\n",
      "text/plain": [
       "<Figure size 864x576 with 1 Axes>"
      ]
     },
     "metadata": {
      "needs_background": "light"
     },
     "output_type": "display_data"
    }
   ],
   "source": [
    "# Create a figure and increase the figure size\n",
    "fig = plt.figure(figsize=(12,8))\n",
    "\n",
    "# Create a scatter plot of duration versus year\n",
    "plt.scatter(netflix_movies_col_subset[\"release_year\"], netflix_movies_col_subset[\"duration\"])\n",
    "\n",
    "# Create a title\n",
    "plt.title(\"Movie Duration by Year of Release\")\n",
    "\n",
    "# Show the pl\n",
    "plt.show()"
   ]
  },
  {
   "cell_type": "markdown",
   "id": "7c06249d",
   "metadata": {
    "dc": {
     "key": "46"
    },
    "deletable": false,
    "editable": false,
    "run_control": {
     "frozen": true
    },
    "tags": [
     "context"
    ]
   },
   "source": [
    "## 7. Digging deeper\n",
    "<p>This is already much more informative than the simple plot we created when our friend first gave us some data. We can also see that, while newer movies are overrepresented on the platform, many short movies have been released in the past two decades.</p>\n",
    "<p>Upon further inspection, something else is going on. Some of these films are under an hour long! Let's filter our DataFrame for movies with a <code>duration</code> under 60 minutes and look at the genres. This might give us some insight into what is dragging down the average.</p>"
   ]
  },
  {
   "cell_type": "code",
   "execution_count": null,
   "id": "e5dad76a",
   "metadata": {
    "dc": {
     "key": "46"
    },
    "tags": [
     "sample_code"
    ]
   },
   "outputs": [
    {
     "name": "stdout",
     "output_type": "stream",
     "text": [
      "                                                 title         country  \\\n",
      "35                                           #Rucker50   United States   \n",
      "55                 100 Things to do Before High School   United States   \n",
      "67   13TH: A Conversation with Oprah Winfrey & Ava ...             NaN   \n",
      "101                                  3 Seconds Divorce          Canada   \n",
      "146                                     A 3 Minute Hug          Mexico   \n",
      "162  A Christmas Special: Miraculous: Tales of Lady...          France   \n",
      "171                         A Family Reunion Christmas   United States   \n",
      "177                    A Go! Go! Cory Carson Christmas   United States   \n",
      "178                    A Go! Go! Cory Carson Halloween             NaN   \n",
      "179                  A Go! Go! Cory Carson Summer Camp             NaN   \n",
      "181             A Grand Night In: The Story of Aardman  United Kingdom   \n",
      "200                            A Love Song for Latasha   United States   \n",
      "220                         A Russell Peters Christmas          Canada   \n",
      "233                              A StoryBots Christmas   United States   \n",
      "237                             A Tale of Two Kitchens   United States   \n",
      "242                            A Trash Truck Christmas             NaN   \n",
      "247                            A Very Murray Christmas   United States   \n",
      "285                               Abominable Christmas   United States   \n",
      "295                                 Across Grace Alley   United States   \n",
      "305                Adam Devine: Best Time of Our Lives   United States   \n",
      "\n",
      "             genre  release_year  duration  \n",
      "35   Documentaries          2016        56  \n",
      "55   Uncategorized          2014        44  \n",
      "67   Uncategorized          2017        37  \n",
      "101  Documentaries          2018        53  \n",
      "146  Documentaries          2019        28  \n",
      "162  Uncategorized          2016        22  \n",
      "171  Uncategorized          2019        29  \n",
      "177       Children          2020        22  \n",
      "178       Children          2020        22  \n",
      "179       Children          2020        21  \n",
      "181  Documentaries          2015        59  \n",
      "200  Documentaries          2020        20  \n",
      "220       Stand-Up          2011        44  \n",
      "233       Children          2017        26  \n",
      "237  Documentaries          2019        30  \n",
      "242       Children          2020        28  \n",
      "247       Comedies          2015        57  \n",
      "285       Children          2012        44  \n",
      "295         Dramas          2013        24  \n",
      "305       Stand-Up          2019        59  \n"
     ]
    }
   ],
   "source": [
    "# Filter for durations shorter than 60 minutes\n",
    "short_movies = netflix_movies_col_subset[netflix_movies_col_subset[\"duration\"] < 60]\n",
    "\n",
    "# Print the first 20 rows of short_movies\n",
    "print(short_movies.head(20))"
   ]
  },
  {
   "cell_type": "markdown",
   "id": "35950b21",
   "metadata": {
    "dc": {
     "key": "53"
    },
    "deletable": false,
    "editable": false,
    "run_control": {
     "frozen": true
    },
    "tags": [
     "context"
    ]
   },
   "source": [
    "## 8. Marking non-feature films\n",
    "<p>Interesting! It looks as though many of the films that are under 60 minutes fall into genres such as \"Children\", \"Stand-Up\", and \"Documentaries\". This is a logical result, as these types of films are probably often shorter than 90 minute Hollywood blockbuster. </p>\n",
    "<p>We could eliminate these rows from our DataFrame and plot the values again. But another interesting way to explore the effect of these genres on our data would be to plot them, but mark them with a different color.</p>\n",
    "<p>In Python, there are many ways to do this, but one fun way might be to use a loop to generate a list of colors based on the contents of the <code>genre</code> column. Much as we did in Intermediate Python, we can then pass this list to our plotting function in a later step to color all non-typical genres in a different color!</p>\n",
    "<p><em>Note: Although we are using the basic colors of red, blue, green, and black, <code>matplotlib</code> has many named colors you can use when creating plots. For more information, you can refer to the documentation <a href=\"https://matplotlib.org/stable/gallery/color/named_colors.html\">here</a>!</em></p>"
   ]
  },
  {
   "cell_type": "code",
   "execution_count": null,
   "id": "1dffa518",
   "metadata": {
    "dc": {
     "key": "53"
    },
    "tags": [
     "sample_code"
    ]
   },
   "outputs": [
    {
     "name": "stdout",
     "output_type": "stream",
     "text": [
      "['black', 'black', 'black', 'black', 'black', 'black', 'black', 'black', 'black', 'blue']\n"
     ]
    }
   ],
   "source": [
    "# Define an empty list\n",
    "colors = list()\n",
    "\n",
    "# Iterate over rows of netflix_movies_col_subset\n",
    "for lab, row in netflix_movies_col_subset.iterrows() :\n",
    "    if row[\"genre\"] == \"Children\" :\n",
    "        colors.append(\"red\")\n",
    "    elif row[\"genre\"] == \"Documentaries\" :\n",
    "        colors.append(\"blue\")\n",
    "    elif row[\"genre\"] == \"Stand-Up\" :\n",
    "        colors.append(\"green\")\n",
    "    else:\n",
    "        colors.append(\"black\")\n",
    "        \n",
    "# Inspect the first 10 values in your list        \n",
    "print(colors[:10])"
   ]
  },
  {
   "cell_type": "markdown",
   "id": "d7471632",
   "metadata": {
    "dc": {
     "key": "60"
    },
    "deletable": false,
    "editable": false,
    "run_control": {
     "frozen": true
    },
    "tags": [
     "context"
    ]
   },
   "source": [
    "## 9. Plotting with color!\n",
    "<p>Lovely looping! We now have a <code>colors</code> list that we can pass to our scatter plot, which should allow us to visually inspect whether these genres might be responsible for the decline in the average duration of movies.</p>\n",
    "<p>This time, we'll also spruce up our plot with some additional axis labels and a new theme with <code>plt.style.use()</code>. The latter isn't taught in Intermediate Python, but can be a fun way to add some visual flair to a basic <code>matplotlib</code> plot. You can find more information on customizing the style of your plot <a href=\"https://matplotlib.org/stable/tutorials/introductory/customizing.html\">here</a>!</p>"
   ]
  },
  {
   "cell_type": "code",
   "execution_count": null,
   "id": "1cb20921",
   "metadata": {
    "dc": {
     "key": "60"
    },
    "tags": [
     "sample_code"
    ]
   },
   "outputs": [
    {
     "data": {
      "image/png": "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\n",
      "text/plain": [
       "<Figure size 864x576 with 1 Axes>"
      ]
     },
     "metadata": {},
     "output_type": "display_data"
    }
   ],
   "source": [
    "# Set the figure style and initalize a new figure\n",
    "plt.style.use('fivethirtyeight')\n",
    "fig = plt.figure(figsize=(12,8))\n",
    "\n",
    "# Create a scatter plot of duration versus release_year\n",
    "plt.scatter(netflix_movies_col_subset[\"release_year\"], netflix_movies_col_subset[\"duration\"],c=\"red\")\n",
    "\n",
    "\n",
    "# Create a title and axis labels\n",
    "plt.xlabel(\"Release year\")\n",
    "plt.ylabel(\"Duration (min)\")\n",
    "plt.title(\"Movie duration by year of release\")\n",
    "\n",
    "\n",
    "\n",
    "# Show the plot\n",
    "plt.show()"
   ]
  },
  
